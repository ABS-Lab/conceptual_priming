{
 "cells": [
  {
   "cell_type": "code",
   "execution_count": 1,
   "metadata": {},
   "outputs": [],
   "source": [
    "%matplotlib inline\n",
    "\n",
    "import os\n",
    "import glob\n",
    "import numpy as np\n",
    "import pandas as pd\n",
    "import matplotlib.pyplot as plt\n",
    "import seaborn as sns\n",
    "from nltools.stats import regress, zscore\n",
    "from nltools.data import Brain_Data, Design_Matrix\n",
    "from nltools.stats import find_spikes \n",
    "from nilearn.plotting import view_img, glass_brain, plot_stat_map\n",
    "from nilearn.plotting import plot_glass_brain"
   ]
  },
  {
   "cell_type": "markdown",
   "metadata": {},
   "source": [
    "## load DATA"
   ]
  },
  {
   "cell_type": "code",
   "execution_count": 2,
   "metadata": {},
   "outputs": [],
   "source": [
    "single_subject = \"/Users/phoenix/Desktop/imaging_studies/ConceptualPriming/data_behavioral/part1/CP_behavdata_24_1_p.dat\"\n",
    "single_subject_brain = \"/Users/phoenix/Desktop/imaging_studies/ConceptualPriming/data_imaging/cp024/positive1/swracp024_p1.nii\"\n",
    "covariates_file = '/Users/phoenix/Desktop/imaging_studies/ConceptualPriming/data_imaging/cp024/positive1/covariates_test.csv'\n",
    "cov = pd.read_csv(covariates_file, header=None)\n",
    "#subject_brain = Brain_Data(single_subject_brain)\n",
    "column_list =['condition', 'respout', 'RT', 'primeword', 'PrimeOnsetTime',\n",
    "              'StimulusOnsetTime', 'TrialOffset', 'IAPS_ID', 'maxcatind', 'mincatind',\n",
    "              'maxcatmean', 'mincatmean', 'maxmincat_power', 'AmusMean', 'AmusSD', 'AweMean',\n",
    "              'AweSD','ExciMean','ExciSD','ContMean','ContSD','CongWord','CongNeutral','IncongWord','IncongNeutral']\n",
    "subject_behavioural=pd.read_csv(single_subject,names=column_list,sep=' ')\n",
    "subject_behavioural = subject_behavioural.drop([0,1])"
   ]
  },
  {
   "cell_type": "code",
   "execution_count": 3,
   "metadata": {},
   "outputs": [],
   "source": [
    "# recode response\n",
    "def responseRecode(responses):\n",
    "    for i in range(0,len(responses)):\n",
    "        current_response = responses[i]\n",
    "        if current_response == 5:\n",
    "            responses[i]=1\n",
    "        else:\n",
    "            responses[i] = current_response\n",
    "    return responses\n",
    "subject_behavioural.respout = responseRecode(subject_behavioural.respout.values)\n"
   ]
  },
  {
   "cell_type": "markdown",
   "metadata": {},
   "source": [
    "## Create TR Space Matrix"
   ]
  },
  {
   "cell_type": "code",
   "execution_count": 4,
   "metadata": {},
   "outputs": [],
   "source": [
    "def CreateRawDm(N_TR, TR_LENGTH,string_conditions, behavioural):\n",
    "    \n",
    "    N_CONDITIONS = 6#hard coded for now\n",
    "    raw_dm = np.zeros((N_TR*TR_LENGTH*1000,N_CONDITIONS)) #convert from seconds to \"millisecond tr space\"\n",
    "    for index, row in behavioural.iterrows():\n",
    "        \n",
    "        #for each row get onset time\n",
    "        onset = float(row.StimulusOnsetTime)*1000\n",
    "        offset = float(row.StimulusOnsetTime) * 1000 + 5 * 1000\n",
    "        condition = int(row.condition)-1\n",
    "\n",
    "        #amuse = 0\n",
    "        #awe = 1\n",
    "        #excited = 2\n",
    "        emotion =3\n",
    "        if(row.CongWord == string_conditions[0]):\n",
    "            emotion = 3\n",
    "        elif(row.CongWord==string_conditions[1]):\n",
    "            emotion=4\n",
    "        else:\n",
    "            emotion = 5\n",
    "         #create block design for design matrix   \n",
    "        raw_dm[int(onset):int(offset), [condition, emotion]]=1\n",
    "    return raw_dm\n",
    "\n",
    "def CreateRawDmNoEmotion(N_TR, TR_LENGTH, behavioural):\n",
    "    \n",
    "    N_CONDITIONS = 3#hard coded for now\n",
    "    raw_dm = np.zeros((N_TR*TR_LENGTH*1000,N_CONDITIONS)) #convert from seconds to \"millisecond tr space\"\n",
    "    for index, row in behavioural.iterrows():\n",
    "        \n",
    "        #for each row get onset time\n",
    "        onset = float(row.StimulusOnsetTime)*1000\n",
    "        offset = float(row.StimulusOnsetTime) * 1000 + 5 * 1000\n",
    "        condition = int(row.condition)-1 \n",
    "        raw_dm[int(onset):int(offset), condition]=1\n",
    "    return raw_dm\n",
    "\n",
    "def CreateDMInTRSpace(N_TR,\n",
    "                      TR_LENGTH,\n",
    "                      string_conditions,\n",
    "                      behavioural,\n",
    "                     regressor_names,\n",
    "                     run_num,\n",
    "                     covariates=None):\n",
    "    \n",
    "    #raw_dm = CreateRawDm(N_TR, TR_LENGTH,string_conditions, behavioural)\n",
    "    raw_dm = CreateRawDmNoEmotion(N_TR, TR_LENGTH, behavioural)\n",
    "    dm = Design_Matrix(raw_dm, sampling_freq=1000, columns=regressor_names)\n",
    "    dm = dm.convolve()\n",
    "    \n",
    "    dm_trspace = dm.iloc[::3000,:]#bad hard code but this is the TR length\n",
    "    dm_trspace = dm_trspace.reset_index(drop=True)\n",
    "    dm_trspace.sampling_freq= 1/TR_LENGTH\n",
    "    \n",
    "    cov = Design_Matrix(covariates, sampling_freq = 1/TR_LENGTH)\n",
    "    cov['run_'+str(run_num)]=1\n",
    "    cov = cov.fillna(0)\n",
    "    cov_columns = cov.columns\n",
    "    cov = cov.add_poly(1).add_dct_basis()\n",
    "    \n",
    "    return pd.concat([dm_trspace,cov], axis=1)\n",
    "    \n",
    "\n",
    "\n"
   ]
  },
  {
   "cell_type": "code",
   "execution_count": 6,
   "metadata": {
    "scrolled": false
   },
   "outputs": [
    {
     "name": "stdout",
     "output_type": "stream",
     "text": [
      "loading brains for subject: \n",
      "\n",
      " ['/Users/phoenix/Desktop/imaging_studies/ConceptualPriming/data_imaging/cp001/negative1/swracp001_n1.nii', '/Users/phoenix/Desktop/imaging_studies/ConceptualPriming/data_imaging/cp001/negative2/swracp001_n2.nii']\n",
      "creating dm for subject: 1.0\n",
      "/Users/phoenix/Desktop/imaging_studies/ConceptualPriming/data_behavioral/part1/CP_behavdata_1_1_n.dat\n",
      "/Users/phoenix/Desktop/imaging_studies/ConceptualPriming/data_behavioral/part1/CP_behavdata_1_2_n.dat\n"
     ]
    },
    {
     "name": "stderr",
     "output_type": "stream",
     "text": [
      "/Users/phoenix/anaconda3/lib/python3.6/site-packages/nltools/stats.py:992: RuntimeWarning: invalid value encountered in true_divide\n",
      "  t = b / stderr\n",
      "/Users/phoenix/anaconda3/lib/python3.6/site-packages/scipy/stats/_distn_infrastructure.py:901: RuntimeWarning: invalid value encountered in greater\n",
      "  return (a < x) & (x < b)\n",
      "/Users/phoenix/anaconda3/lib/python3.6/site-packages/scipy/stats/_distn_infrastructure.py:901: RuntimeWarning: invalid value encountered in less\n",
      "  return (a < x) & (x < b)\n",
      "/Users/phoenix/anaconda3/lib/python3.6/site-packages/scipy/stats/_distn_infrastructure.py:1807: RuntimeWarning: invalid value encountered in greater_equal\n",
      "  cond2 = (x >= _b) & cond0\n"
     ]
    },
    {
     "name": "stdout",
     "output_type": "stream",
     "text": [
      "loading brains for subject: \n",
      "\n",
      " ['/Users/phoenix/Desktop/imaging_studies/ConceptualPriming/data_imaging/cp002/negative1/swracp002_n1.nii', '/Users/phoenix/Desktop/imaging_studies/ConceptualPriming/data_imaging/cp002/negative2/swracp002_n2.nii']\n",
      "creating dm for subject: 2.0\n",
      "/Users/phoenix/Desktop/imaging_studies/ConceptualPriming/data_behavioral/part1/CP_behavdata_2_1_n.dat\n",
      "/Users/phoenix/Desktop/imaging_studies/ConceptualPriming/data_behavioral/part1/CP_behavdata_2_2_n.dat\n"
     ]
    },
    {
     "name": "stderr",
     "output_type": "stream",
     "text": [
      "/Users/phoenix/anaconda3/lib/python3.6/site-packages/nltools/stats.py:992: RuntimeWarning: invalid value encountered in true_divide\n",
      "  t = b / stderr\n",
      "/Users/phoenix/anaconda3/lib/python3.6/site-packages/scipy/stats/_distn_infrastructure.py:901: RuntimeWarning: invalid value encountered in greater\n",
      "  return (a < x) & (x < b)\n",
      "/Users/phoenix/anaconda3/lib/python3.6/site-packages/scipy/stats/_distn_infrastructure.py:901: RuntimeWarning: invalid value encountered in less\n",
      "  return (a < x) & (x < b)\n",
      "/Users/phoenix/anaconda3/lib/python3.6/site-packages/scipy/stats/_distn_infrastructure.py:1807: RuntimeWarning: invalid value encountered in greater_equal\n",
      "  cond2 = (x >= _b) & cond0\n"
     ]
    },
    {
     "name": "stdout",
     "output_type": "stream",
     "text": [
      "loading brains for subject: \n",
      "\n",
      " ['/Users/phoenix/Desktop/imaging_studies/ConceptualPriming/data_imaging/cp003/negative1/swracp003_n1.nii', '/Users/phoenix/Desktop/imaging_studies/ConceptualPriming/data_imaging/cp003/negative2/swracp003_n2.nii']\n",
      "creating dm for subject: 3.0\n",
      "/Users/phoenix/Desktop/imaging_studies/ConceptualPriming/data_behavioral/part1/CP_behavdata_3_1_n.dat\n",
      "/Users/phoenix/Desktop/imaging_studies/ConceptualPriming/data_behavioral/part1/CP_behavdata_3_2_n.dat\n"
     ]
    },
    {
     "name": "stderr",
     "output_type": "stream",
     "text": [
      "/Users/phoenix/anaconda3/lib/python3.6/site-packages/nltools/stats.py:992: RuntimeWarning: invalid value encountered in true_divide\n",
      "  t = b / stderr\n",
      "/Users/phoenix/anaconda3/lib/python3.6/site-packages/scipy/stats/_distn_infrastructure.py:901: RuntimeWarning: invalid value encountered in greater\n",
      "  return (a < x) & (x < b)\n",
      "/Users/phoenix/anaconda3/lib/python3.6/site-packages/scipy/stats/_distn_infrastructure.py:901: RuntimeWarning: invalid value encountered in less\n",
      "  return (a < x) & (x < b)\n",
      "/Users/phoenix/anaconda3/lib/python3.6/site-packages/scipy/stats/_distn_infrastructure.py:1807: RuntimeWarning: invalid value encountered in greater_equal\n",
      "  cond2 = (x >= _b) & cond0\n"
     ]
    },
    {
     "name": "stdout",
     "output_type": "stream",
     "text": [
      "loading brains for subject: \n",
      "\n",
      " ['/Users/phoenix/Desktop/imaging_studies/ConceptualPriming/data_imaging/cp004/negative1/swracp004_n1.nii', '/Users/phoenix/Desktop/imaging_studies/ConceptualPriming/data_imaging/cp004/negative2/swracp004_n2.nii']\n",
      "creating dm for subject: 4.0\n",
      "/Users/phoenix/Desktop/imaging_studies/ConceptualPriming/data_behavioral/part1/CP_behavdata_4_1_n.dat\n",
      "/Users/phoenix/Desktop/imaging_studies/ConceptualPriming/data_behavioral/part1/CP_behavdata_4_2_n.dat\n"
     ]
    },
    {
     "name": "stderr",
     "output_type": "stream",
     "text": [
      "/Users/phoenix/anaconda3/lib/python3.6/site-packages/nltools/stats.py:992: RuntimeWarning: invalid value encountered in true_divide\n",
      "  t = b / stderr\n",
      "/Users/phoenix/anaconda3/lib/python3.6/site-packages/scipy/stats/_distn_infrastructure.py:901: RuntimeWarning: invalid value encountered in greater\n",
      "  return (a < x) & (x < b)\n",
      "/Users/phoenix/anaconda3/lib/python3.6/site-packages/scipy/stats/_distn_infrastructure.py:901: RuntimeWarning: invalid value encountered in less\n",
      "  return (a < x) & (x < b)\n",
      "/Users/phoenix/anaconda3/lib/python3.6/site-packages/scipy/stats/_distn_infrastructure.py:1807: RuntimeWarning: invalid value encountered in greater_equal\n",
      "  cond2 = (x >= _b) & cond0\n"
     ]
    },
    {
     "name": "stdout",
     "output_type": "stream",
     "text": [
      "loading brains for subject: \n",
      "\n",
      " ['/Users/phoenix/Desktop/imaging_studies/ConceptualPriming/data_imaging/cp005/negative1/swracp005_n1.nii', '/Users/phoenix/Desktop/imaging_studies/ConceptualPriming/data_imaging/cp005/negative2/swracp005_n2.nii']\n",
      "creating dm for subject: 5.0\n",
      "/Users/phoenix/Desktop/imaging_studies/ConceptualPriming/data_behavioral/part1/CP_behavdata_5_1_n.dat\n",
      "/Users/phoenix/Desktop/imaging_studies/ConceptualPriming/data_behavioral/part1/CP_behavdata_5_2_n.dat\n"
     ]
    },
    {
     "name": "stderr",
     "output_type": "stream",
     "text": [
      "/Users/phoenix/anaconda3/lib/python3.6/site-packages/nltools/stats.py:992: RuntimeWarning: invalid value encountered in true_divide\n",
      "  t = b / stderr\n",
      "/Users/phoenix/anaconda3/lib/python3.6/site-packages/scipy/stats/_distn_infrastructure.py:901: RuntimeWarning: invalid value encountered in greater\n",
      "  return (a < x) & (x < b)\n",
      "/Users/phoenix/anaconda3/lib/python3.6/site-packages/scipy/stats/_distn_infrastructure.py:901: RuntimeWarning: invalid value encountered in less\n",
      "  return (a < x) & (x < b)\n",
      "/Users/phoenix/anaconda3/lib/python3.6/site-packages/scipy/stats/_distn_infrastructure.py:1807: RuntimeWarning: invalid value encountered in greater_equal\n",
      "  cond2 = (x >= _b) & cond0\n"
     ]
    },
    {
     "name": "stdout",
     "output_type": "stream",
     "text": [
      "loading brains for subject: \n",
      "\n",
      " ['/Users/phoenix/Desktop/imaging_studies/ConceptualPriming/data_imaging/cp006/negative1/swracp006_n1.nii', '/Users/phoenix/Desktop/imaging_studies/ConceptualPriming/data_imaging/cp006/negative2/swracp006_n2.nii']\n",
      "creating dm for subject: 6.0\n",
      "/Users/phoenix/Desktop/imaging_studies/ConceptualPriming/data_behavioral/part1/CP_behavdata_6_1_n.dat\n",
      "/Users/phoenix/Desktop/imaging_studies/ConceptualPriming/data_behavioral/part1/CP_behavdata_6_2_n.dat\n"
     ]
    },
    {
     "name": "stderr",
     "output_type": "stream",
     "text": [
      "/Users/phoenix/anaconda3/lib/python3.6/site-packages/nltools/stats.py:992: RuntimeWarning: invalid value encountered in true_divide\n",
      "  t = b / stderr\n",
      "/Users/phoenix/anaconda3/lib/python3.6/site-packages/scipy/stats/_distn_infrastructure.py:901: RuntimeWarning: invalid value encountered in greater\n",
      "  return (a < x) & (x < b)\n",
      "/Users/phoenix/anaconda3/lib/python3.6/site-packages/scipy/stats/_distn_infrastructure.py:901: RuntimeWarning: invalid value encountered in less\n",
      "  return (a < x) & (x < b)\n",
      "/Users/phoenix/anaconda3/lib/python3.6/site-packages/scipy/stats/_distn_infrastructure.py:1807: RuntimeWarning: invalid value encountered in greater_equal\n",
      "  cond2 = (x >= _b) & cond0\n"
     ]
    },
    {
     "name": "stdout",
     "output_type": "stream",
     "text": [
      "loading brains for subject: \n",
      "\n",
      " ['/Users/phoenix/Desktop/imaging_studies/ConceptualPriming/data_imaging/cp007/negative1/swracp007_n1.nii', '/Users/phoenix/Desktop/imaging_studies/ConceptualPriming/data_imaging/cp007/negative2/swracp007_n2.nii']\n",
      "creating dm for subject: 7.0\n",
      "/Users/phoenix/Desktop/imaging_studies/ConceptualPriming/data_behavioral/part1/CP_behavdata_7_1_n.dat\n",
      "/Users/phoenix/Desktop/imaging_studies/ConceptualPriming/data_behavioral/part1/CP_behavdata_7_2_n.dat\n"
     ]
    },
    {
     "name": "stderr",
     "output_type": "stream",
     "text": [
      "/Users/phoenix/anaconda3/lib/python3.6/site-packages/nltools/stats.py:992: RuntimeWarning: invalid value encountered in true_divide\n",
      "  t = b / stderr\n",
      "/Users/phoenix/anaconda3/lib/python3.6/site-packages/scipy/stats/_distn_infrastructure.py:901: RuntimeWarning: invalid value encountered in greater\n",
      "  return (a < x) & (x < b)\n",
      "/Users/phoenix/anaconda3/lib/python3.6/site-packages/scipy/stats/_distn_infrastructure.py:901: RuntimeWarning: invalid value encountered in less\n",
      "  return (a < x) & (x < b)\n",
      "/Users/phoenix/anaconda3/lib/python3.6/site-packages/scipy/stats/_distn_infrastructure.py:1807: RuntimeWarning: invalid value encountered in greater_equal\n",
      "  cond2 = (x >= _b) & cond0\n"
     ]
    },
    {
     "name": "stdout",
     "output_type": "stream",
     "text": [
      "loading brains for subject: \n",
      "\n",
      " ['/Users/phoenix/Desktop/imaging_studies/ConceptualPriming/data_imaging/cp008/negative1/swracp008_n1.nii', '/Users/phoenix/Desktop/imaging_studies/ConceptualPriming/data_imaging/cp008/negative2/swracp008_n2.nii']\n",
      "creating dm for subject: 8.0\n",
      "/Users/phoenix/Desktop/imaging_studies/ConceptualPriming/data_behavioral/part1/CP_behavdata_8_1_n.dat\n",
      "/Users/phoenix/Desktop/imaging_studies/ConceptualPriming/data_behavioral/part1/CP_behavdata_8_2_n.dat\n"
     ]
    },
    {
     "name": "stderr",
     "output_type": "stream",
     "text": [
      "/Users/phoenix/anaconda3/lib/python3.6/site-packages/nltools/stats.py:992: RuntimeWarning: invalid value encountered in true_divide\n",
      "  t = b / stderr\n",
      "/Users/phoenix/anaconda3/lib/python3.6/site-packages/scipy/stats/_distn_infrastructure.py:901: RuntimeWarning: invalid value encountered in greater\n",
      "  return (a < x) & (x < b)\n",
      "/Users/phoenix/anaconda3/lib/python3.6/site-packages/scipy/stats/_distn_infrastructure.py:901: RuntimeWarning: invalid value encountered in less\n",
      "  return (a < x) & (x < b)\n",
      "/Users/phoenix/anaconda3/lib/python3.6/site-packages/scipy/stats/_distn_infrastructure.py:1807: RuntimeWarning: invalid value encountered in greater_equal\n",
      "  cond2 = (x >= _b) & cond0\n"
     ]
    },
    {
     "name": "stdout",
     "output_type": "stream",
     "text": [
      "loading brains for subject: \n",
      "\n",
      " ['/Users/phoenix/Desktop/imaging_studies/ConceptualPriming/data_imaging/cp009/negative1/swracp009_n1.nii', '/Users/phoenix/Desktop/imaging_studies/ConceptualPriming/data_imaging/cp009/negative2/swracp009_n2.nii']\n",
      "creating dm for subject: 9.0\n",
      "/Users/phoenix/Desktop/imaging_studies/ConceptualPriming/data_behavioral/part1/CP_behavdata_9_1_n.dat\n",
      "/Users/phoenix/Desktop/imaging_studies/ConceptualPriming/data_behavioral/part1/CP_behavdata_9_2_n.dat\n"
     ]
    },
    {
     "name": "stderr",
     "output_type": "stream",
     "text": [
      "/Users/phoenix/anaconda3/lib/python3.6/site-packages/nltools/stats.py:992: RuntimeWarning: invalid value encountered in true_divide\n",
      "  t = b / stderr\n",
      "/Users/phoenix/anaconda3/lib/python3.6/site-packages/scipy/stats/_distn_infrastructure.py:901: RuntimeWarning: invalid value encountered in greater\n",
      "  return (a < x) & (x < b)\n",
      "/Users/phoenix/anaconda3/lib/python3.6/site-packages/scipy/stats/_distn_infrastructure.py:901: RuntimeWarning: invalid value encountered in less\n",
      "  return (a < x) & (x < b)\n",
      "/Users/phoenix/anaconda3/lib/python3.6/site-packages/scipy/stats/_distn_infrastructure.py:1807: RuntimeWarning: invalid value encountered in greater_equal\n",
      "  cond2 = (x >= _b) & cond0\n"
     ]
    },
    {
     "name": "stdout",
     "output_type": "stream",
     "text": [
      "loading brains for subject: \n",
      "\n",
      " ['/Users/phoenix/Desktop/imaging_studies/ConceptualPriming/data_imaging/cp010/negative1/swracp010_n1.nii', '/Users/phoenix/Desktop/imaging_studies/ConceptualPriming/data_imaging/cp010/negative2/swracp010_n2.nii']\n",
      "creating dm for subject: 10.0\n",
      "/Users/phoenix/Desktop/imaging_studies/ConceptualPriming/data_behavioral/part1/CP_behavdata_10_1_n.dat\n",
      "/Users/phoenix/Desktop/imaging_studies/ConceptualPriming/data_behavioral/part1/CP_behavdata_10_2_n.dat\n"
     ]
    },
    {
     "name": "stderr",
     "output_type": "stream",
     "text": [
      "/Users/phoenix/anaconda3/lib/python3.6/site-packages/nltools/stats.py:992: RuntimeWarning: invalid value encountered in true_divide\n",
      "  t = b / stderr\n",
      "/Users/phoenix/anaconda3/lib/python3.6/site-packages/scipy/stats/_distn_infrastructure.py:901: RuntimeWarning: invalid value encountered in greater\n",
      "  return (a < x) & (x < b)\n",
      "/Users/phoenix/anaconda3/lib/python3.6/site-packages/scipy/stats/_distn_infrastructure.py:901: RuntimeWarning: invalid value encountered in less\n",
      "  return (a < x) & (x < b)\n",
      "/Users/phoenix/anaconda3/lib/python3.6/site-packages/scipy/stats/_distn_infrastructure.py:1807: RuntimeWarning: invalid value encountered in greater_equal\n",
      "  cond2 = (x >= _b) & cond0\n"
     ]
    },
    {
     "name": "stdout",
     "output_type": "stream",
     "text": [
      "loading brains for subject: \n",
      "\n",
      " ['/Users/phoenix/Desktop/imaging_studies/ConceptualPriming/data_imaging/cp011/negative1/swracp011_n1.nii', '/Users/phoenix/Desktop/imaging_studies/ConceptualPriming/data_imaging/cp011/negative2/swracp011_n2.nii']\n",
      "creating dm for subject: 11.0\n",
      "/Users/phoenix/Desktop/imaging_studies/ConceptualPriming/data_behavioral/part1/CP_behavdata_11_1_n.dat\n",
      "/Users/phoenix/Desktop/imaging_studies/ConceptualPriming/data_behavioral/part1/CP_behavdata_11_2_n.dat\n"
     ]
    },
    {
     "name": "stderr",
     "output_type": "stream",
     "text": [
      "/Users/phoenix/anaconda3/lib/python3.6/site-packages/nltools/stats.py:992: RuntimeWarning: invalid value encountered in true_divide\n",
      "  t = b / stderr\n",
      "/Users/phoenix/anaconda3/lib/python3.6/site-packages/scipy/stats/_distn_infrastructure.py:901: RuntimeWarning: invalid value encountered in greater\n",
      "  return (a < x) & (x < b)\n",
      "/Users/phoenix/anaconda3/lib/python3.6/site-packages/scipy/stats/_distn_infrastructure.py:901: RuntimeWarning: invalid value encountered in less\n",
      "  return (a < x) & (x < b)\n",
      "/Users/phoenix/anaconda3/lib/python3.6/site-packages/scipy/stats/_distn_infrastructure.py:1807: RuntimeWarning: invalid value encountered in greater_equal\n",
      "  cond2 = (x >= _b) & cond0\n"
     ]
    },
    {
     "name": "stdout",
     "output_type": "stream",
     "text": [
      "loading brains for subject: \n",
      "\n",
      " ['/Users/phoenix/Desktop/imaging_studies/ConceptualPriming/data_imaging/cp012/negative1/swracp012_n1.nii', '/Users/phoenix/Desktop/imaging_studies/ConceptualPriming/data_imaging/cp012/negative2/swracp012_n2.nii']\n",
      "creating dm for subject: 12.0\n",
      "/Users/phoenix/Desktop/imaging_studies/ConceptualPriming/data_behavioral/part1/CP_behavdata_12_1_n.dat\n",
      "/Users/phoenix/Desktop/imaging_studies/ConceptualPriming/data_behavioral/part1/CP_behavdata_12_2_n.dat\n"
     ]
    },
    {
     "name": "stderr",
     "output_type": "stream",
     "text": [
      "/Users/phoenix/anaconda3/lib/python3.6/site-packages/nltools/stats.py:992: RuntimeWarning: invalid value encountered in true_divide\n",
      "  t = b / stderr\n",
      "/Users/phoenix/anaconda3/lib/python3.6/site-packages/scipy/stats/_distn_infrastructure.py:901: RuntimeWarning: invalid value encountered in greater\n",
      "  return (a < x) & (x < b)\n",
      "/Users/phoenix/anaconda3/lib/python3.6/site-packages/scipy/stats/_distn_infrastructure.py:901: RuntimeWarning: invalid value encountered in less\n",
      "  return (a < x) & (x < b)\n",
      "/Users/phoenix/anaconda3/lib/python3.6/site-packages/scipy/stats/_distn_infrastructure.py:1807: RuntimeWarning: invalid value encountered in greater_equal\n",
      "  cond2 = (x >= _b) & cond0\n"
     ]
    },
    {
     "name": "stdout",
     "output_type": "stream",
     "text": [
      "loading brains for subject: \n",
      "\n",
      " ['/Users/phoenix/Desktop/imaging_studies/ConceptualPriming/data_imaging/cp013/negative1/swracp013_n1.nii', '/Users/phoenix/Desktop/imaging_studies/ConceptualPriming/data_imaging/cp013/negative2/swracp013_n2.nii']\n",
      "creating dm for subject: 13.0\n",
      "/Users/phoenix/Desktop/imaging_studies/ConceptualPriming/data_behavioral/part1/CP_behavdata_13_1_n.dat\n",
      "/Users/phoenix/Desktop/imaging_studies/ConceptualPriming/data_behavioral/part1/CP_behavdata_13_2_n.dat\n"
     ]
    },
    {
     "name": "stderr",
     "output_type": "stream",
     "text": [
      "/Users/phoenix/anaconda3/lib/python3.6/site-packages/nltools/stats.py:992: RuntimeWarning: invalid value encountered in true_divide\n",
      "  t = b / stderr\n",
      "/Users/phoenix/anaconda3/lib/python3.6/site-packages/scipy/stats/_distn_infrastructure.py:901: RuntimeWarning: invalid value encountered in greater\n",
      "  return (a < x) & (x < b)\n",
      "/Users/phoenix/anaconda3/lib/python3.6/site-packages/scipy/stats/_distn_infrastructure.py:901: RuntimeWarning: invalid value encountered in less\n",
      "  return (a < x) & (x < b)\n",
      "/Users/phoenix/anaconda3/lib/python3.6/site-packages/scipy/stats/_distn_infrastructure.py:1807: RuntimeWarning: invalid value encountered in greater_equal\n",
      "  cond2 = (x >= _b) & cond0\n"
     ]
    },
    {
     "name": "stdout",
     "output_type": "stream",
     "text": [
      "loading brains for subject: \n",
      "\n",
      " ['/Users/phoenix/Desktop/imaging_studies/ConceptualPriming/data_imaging/cp014/negative1/swracp014_n1.nii', '/Users/phoenix/Desktop/imaging_studies/ConceptualPriming/data_imaging/cp014/negative2/swracp014_n2.nii']\n",
      "creating dm for subject: 14.0\n",
      "/Users/phoenix/Desktop/imaging_studies/ConceptualPriming/data_behavioral/part1/CP_behavdata_14_1_n.dat\n",
      "/Users/phoenix/Desktop/imaging_studies/ConceptualPriming/data_behavioral/part1/CP_behavdata_14_2_n.dat\n"
     ]
    },
    {
     "name": "stderr",
     "output_type": "stream",
     "text": [
      "/Users/phoenix/anaconda3/lib/python3.6/site-packages/nltools/stats.py:992: RuntimeWarning: invalid value encountered in true_divide\n",
      "  t = b / stderr\n",
      "/Users/phoenix/anaconda3/lib/python3.6/site-packages/scipy/stats/_distn_infrastructure.py:901: RuntimeWarning: invalid value encountered in greater\n",
      "  return (a < x) & (x < b)\n",
      "/Users/phoenix/anaconda3/lib/python3.6/site-packages/scipy/stats/_distn_infrastructure.py:901: RuntimeWarning: invalid value encountered in less\n",
      "  return (a < x) & (x < b)\n",
      "/Users/phoenix/anaconda3/lib/python3.6/site-packages/scipy/stats/_distn_infrastructure.py:1807: RuntimeWarning: invalid value encountered in greater_equal\n",
      "  cond2 = (x >= _b) & cond0\n"
     ]
    },
    {
     "name": "stdout",
     "output_type": "stream",
     "text": [
      "loading brains for subject: \n",
      "\n",
      " ['/Users/phoenix/Desktop/imaging_studies/ConceptualPriming/data_imaging/cp015/negative1/swracp015_n1.nii', '/Users/phoenix/Desktop/imaging_studies/ConceptualPriming/data_imaging/cp015/negative2/swracp015_n2.nii']\n",
      "creating dm for subject: 15.0\n",
      "/Users/phoenix/Desktop/imaging_studies/ConceptualPriming/data_behavioral/part1/CP_behavdata_15_1_n.dat\n",
      "/Users/phoenix/Desktop/imaging_studies/ConceptualPriming/data_behavioral/part1/CP_behavdata_15_2_n.dat\n"
     ]
    },
    {
     "name": "stderr",
     "output_type": "stream",
     "text": [
      "/Users/phoenix/anaconda3/lib/python3.6/site-packages/nltools/stats.py:992: RuntimeWarning: invalid value encountered in true_divide\n",
      "  t = b / stderr\n",
      "/Users/phoenix/anaconda3/lib/python3.6/site-packages/scipy/stats/_distn_infrastructure.py:901: RuntimeWarning: invalid value encountered in greater\n",
      "  return (a < x) & (x < b)\n",
      "/Users/phoenix/anaconda3/lib/python3.6/site-packages/scipy/stats/_distn_infrastructure.py:901: RuntimeWarning: invalid value encountered in less\n",
      "  return (a < x) & (x < b)\n",
      "/Users/phoenix/anaconda3/lib/python3.6/site-packages/scipy/stats/_distn_infrastructure.py:1807: RuntimeWarning: invalid value encountered in greater_equal\n",
      "  cond2 = (x >= _b) & cond0\n"
     ]
    },
    {
     "name": "stdout",
     "output_type": "stream",
     "text": [
      "loading brains for subject: \n",
      "\n",
      " ['/Users/phoenix/Desktop/imaging_studies/ConceptualPriming/data_imaging/cp016/negative1/swracp016_n1.nii', '/Users/phoenix/Desktop/imaging_studies/ConceptualPriming/data_imaging/cp016/negative2/swracp016_n2.nii']\n",
      "creating dm for subject: 16.0\n",
      "/Users/phoenix/Desktop/imaging_studies/ConceptualPriming/data_behavioral/part1/CP_behavdata_16_1_n.dat\n",
      "/Users/phoenix/Desktop/imaging_studies/ConceptualPriming/data_behavioral/part1/CP_behavdata_16_2_n.dat\n"
     ]
    },
    {
     "name": "stderr",
     "output_type": "stream",
     "text": [
      "/Users/phoenix/anaconda3/lib/python3.6/site-packages/nltools/stats.py:992: RuntimeWarning: invalid value encountered in true_divide\n",
      "  t = b / stderr\n",
      "/Users/phoenix/anaconda3/lib/python3.6/site-packages/scipy/stats/_distn_infrastructure.py:901: RuntimeWarning: invalid value encountered in greater\n",
      "  return (a < x) & (x < b)\n",
      "/Users/phoenix/anaconda3/lib/python3.6/site-packages/scipy/stats/_distn_infrastructure.py:901: RuntimeWarning: invalid value encountered in less\n",
      "  return (a < x) & (x < b)\n",
      "/Users/phoenix/anaconda3/lib/python3.6/site-packages/scipy/stats/_distn_infrastructure.py:1807: RuntimeWarning: invalid value encountered in greater_equal\n",
      "  cond2 = (x >= _b) & cond0\n"
     ]
    },
    {
     "name": "stdout",
     "output_type": "stream",
     "text": [
      "loading brains for subject: \n",
      "\n",
      " ['/Users/phoenix/Desktop/imaging_studies/ConceptualPriming/data_imaging/cp017/negative1/swracp017_n1.nii', '/Users/phoenix/Desktop/imaging_studies/ConceptualPriming/data_imaging/cp017/negative2/swracp017_n2.nii']\n",
      "creating dm for subject: 17.0\n",
      "/Users/phoenix/Desktop/imaging_studies/ConceptualPriming/data_behavioral/part1/CP_behavdata_17_1_n.dat\n",
      "/Users/phoenix/Desktop/imaging_studies/ConceptualPriming/data_behavioral/part1/CP_behavdata_17_2_n.dat\n"
     ]
    },
    {
     "name": "stderr",
     "output_type": "stream",
     "text": [
      "/Users/phoenix/anaconda3/lib/python3.6/site-packages/nltools/stats.py:992: RuntimeWarning: invalid value encountered in true_divide\n",
      "  t = b / stderr\n",
      "/Users/phoenix/anaconda3/lib/python3.6/site-packages/scipy/stats/_distn_infrastructure.py:901: RuntimeWarning: invalid value encountered in greater\n",
      "  return (a < x) & (x < b)\n",
      "/Users/phoenix/anaconda3/lib/python3.6/site-packages/scipy/stats/_distn_infrastructure.py:901: RuntimeWarning: invalid value encountered in less\n",
      "  return (a < x) & (x < b)\n",
      "/Users/phoenix/anaconda3/lib/python3.6/site-packages/scipy/stats/_distn_infrastructure.py:1807: RuntimeWarning: invalid value encountered in greater_equal\n",
      "  cond2 = (x >= _b) & cond0\n"
     ]
    },
    {
     "name": "stdout",
     "output_type": "stream",
     "text": [
      "loading brains for subject: \n",
      "\n",
      " ['/Users/phoenix/Desktop/imaging_studies/ConceptualPriming/data_imaging/cp018/negative1/swracp018_n1.nii', '/Users/phoenix/Desktop/imaging_studies/ConceptualPriming/data_imaging/cp018/negative2/swracp018_n2.nii']\n",
      "creating dm for subject: 18.0\n",
      "/Users/phoenix/Desktop/imaging_studies/ConceptualPriming/data_behavioral/part1/CP_behavdata_18_1_n.dat\n",
      "/Users/phoenix/Desktop/imaging_studies/ConceptualPriming/data_behavioral/part1/CP_behavdata_18_2_n.dat\n"
     ]
    },
    {
     "name": "stderr",
     "output_type": "stream",
     "text": [
      "/Users/phoenix/anaconda3/lib/python3.6/site-packages/nltools/stats.py:992: RuntimeWarning: invalid value encountered in true_divide\n",
      "  t = b / stderr\n",
      "/Users/phoenix/anaconda3/lib/python3.6/site-packages/scipy/stats/_distn_infrastructure.py:901: RuntimeWarning: invalid value encountered in greater\n",
      "  return (a < x) & (x < b)\n",
      "/Users/phoenix/anaconda3/lib/python3.6/site-packages/scipy/stats/_distn_infrastructure.py:901: RuntimeWarning: invalid value encountered in less\n",
      "  return (a < x) & (x < b)\n",
      "/Users/phoenix/anaconda3/lib/python3.6/site-packages/scipy/stats/_distn_infrastructure.py:1807: RuntimeWarning: invalid value encountered in greater_equal\n",
      "  cond2 = (x >= _b) & cond0\n"
     ]
    },
    {
     "name": "stdout",
     "output_type": "stream",
     "text": [
      "loading brains for subject: \n",
      "\n",
      " ['/Users/phoenix/Desktop/imaging_studies/ConceptualPriming/data_imaging/cp019/negative1/swracp019_n1.nii', '/Users/phoenix/Desktop/imaging_studies/ConceptualPriming/data_imaging/cp019/negative2/swracp019_n2.nii']\n",
      "creating dm for subject: 19.0\n",
      "/Users/phoenix/Desktop/imaging_studies/ConceptualPriming/data_behavioral/part1/CP_behavdata_19_1_n.dat\n",
      "/Users/phoenix/Desktop/imaging_studies/ConceptualPriming/data_behavioral/part1/CP_behavdata_19_2_n.dat\n"
     ]
    },
    {
     "name": "stderr",
     "output_type": "stream",
     "text": [
      "/Users/phoenix/anaconda3/lib/python3.6/site-packages/nltools/stats.py:992: RuntimeWarning: invalid value encountered in true_divide\n",
      "  t = b / stderr\n",
      "/Users/phoenix/anaconda3/lib/python3.6/site-packages/scipy/stats/_distn_infrastructure.py:901: RuntimeWarning: invalid value encountered in greater\n",
      "  return (a < x) & (x < b)\n",
      "/Users/phoenix/anaconda3/lib/python3.6/site-packages/scipy/stats/_distn_infrastructure.py:901: RuntimeWarning: invalid value encountered in less\n",
      "  return (a < x) & (x < b)\n",
      "/Users/phoenix/anaconda3/lib/python3.6/site-packages/scipy/stats/_distn_infrastructure.py:1807: RuntimeWarning: invalid value encountered in greater_equal\n",
      "  cond2 = (x >= _b) & cond0\n"
     ]
    },
    {
     "name": "stdout",
     "output_type": "stream",
     "text": [
      "loading brains for subject: \n",
      "\n",
      " ['/Users/phoenix/Desktop/imaging_studies/ConceptualPriming/data_imaging/cp020/negative1/swracp020_n1.nii', '/Users/phoenix/Desktop/imaging_studies/ConceptualPriming/data_imaging/cp020/negative2/swracp020_n2.nii']\n",
      "creating dm for subject: 20.0\n",
      "/Users/phoenix/Desktop/imaging_studies/ConceptualPriming/data_behavioral/part1/CP_behavdata_20_1_n.dat\n",
      "/Users/phoenix/Desktop/imaging_studies/ConceptualPriming/data_behavioral/part1/CP_behavdata_20_2_n.dat\n"
     ]
    },
    {
     "name": "stderr",
     "output_type": "stream",
     "text": [
      "/Users/phoenix/anaconda3/lib/python3.6/site-packages/nltools/stats.py:992: RuntimeWarning: invalid value encountered in true_divide\n",
      "  t = b / stderr\n",
      "/Users/phoenix/anaconda3/lib/python3.6/site-packages/scipy/stats/_distn_infrastructure.py:901: RuntimeWarning: invalid value encountered in greater\n",
      "  return (a < x) & (x < b)\n",
      "/Users/phoenix/anaconda3/lib/python3.6/site-packages/scipy/stats/_distn_infrastructure.py:901: RuntimeWarning: invalid value encountered in less\n",
      "  return (a < x) & (x < b)\n",
      "/Users/phoenix/anaconda3/lib/python3.6/site-packages/scipy/stats/_distn_infrastructure.py:1807: RuntimeWarning: invalid value encountered in greater_equal\n",
      "  cond2 = (x >= _b) & cond0\n"
     ]
    },
    {
     "name": "stdout",
     "output_type": "stream",
     "text": [
      "loading brains for subject: \n",
      "\n",
      " ['/Users/phoenix/Desktop/imaging_studies/ConceptualPriming/data_imaging/cp021/negative1/swracp021_n1.nii', '/Users/phoenix/Desktop/imaging_studies/ConceptualPriming/data_imaging/cp021/negative2/swracp021_n2.nii']\n",
      "creating dm for subject: 21.0\n",
      "/Users/phoenix/Desktop/imaging_studies/ConceptualPriming/data_behavioral/part1/CP_behavdata_21_1_n.dat\n",
      "/Users/phoenix/Desktop/imaging_studies/ConceptualPriming/data_behavioral/part1/CP_behavdata_21_2_n.dat\n"
     ]
    },
    {
     "name": "stderr",
     "output_type": "stream",
     "text": [
      "/Users/phoenix/anaconda3/lib/python3.6/site-packages/nltools/stats.py:992: RuntimeWarning: invalid value encountered in true_divide\n",
      "  t = b / stderr\n",
      "/Users/phoenix/anaconda3/lib/python3.6/site-packages/scipy/stats/_distn_infrastructure.py:901: RuntimeWarning: invalid value encountered in greater\n",
      "  return (a < x) & (x < b)\n",
      "/Users/phoenix/anaconda3/lib/python3.6/site-packages/scipy/stats/_distn_infrastructure.py:901: RuntimeWarning: invalid value encountered in less\n",
      "  return (a < x) & (x < b)\n",
      "/Users/phoenix/anaconda3/lib/python3.6/site-packages/scipy/stats/_distn_infrastructure.py:1807: RuntimeWarning: invalid value encountered in greater_equal\n",
      "  cond2 = (x >= _b) & cond0\n"
     ]
    },
    {
     "name": "stdout",
     "output_type": "stream",
     "text": [
      "loading brains for subject: \n",
      "\n",
      " ['/Users/phoenix/Desktop/imaging_studies/ConceptualPriming/data_imaging/cp022/negative1/swracp022_n1.nii', '/Users/phoenix/Desktop/imaging_studies/ConceptualPriming/data_imaging/cp022/negative2/swracp022_n2.nii']\n",
      "creating dm for subject: 22.0\n",
      "/Users/phoenix/Desktop/imaging_studies/ConceptualPriming/data_behavioral/part1/CP_behavdata_22_1_n.dat\n",
      "/Users/phoenix/Desktop/imaging_studies/ConceptualPriming/data_behavioral/part1/CP_behavdata_22_2_n.dat\n"
     ]
    },
    {
     "name": "stderr",
     "output_type": "stream",
     "text": [
      "/Users/phoenix/anaconda3/lib/python3.6/site-packages/nltools/stats.py:992: RuntimeWarning: invalid value encountered in true_divide\n",
      "  t = b / stderr\n",
      "/Users/phoenix/anaconda3/lib/python3.6/site-packages/scipy/stats/_distn_infrastructure.py:901: RuntimeWarning: invalid value encountered in greater\n",
      "  return (a < x) & (x < b)\n",
      "/Users/phoenix/anaconda3/lib/python3.6/site-packages/scipy/stats/_distn_infrastructure.py:901: RuntimeWarning: invalid value encountered in less\n",
      "  return (a < x) & (x < b)\n",
      "/Users/phoenix/anaconda3/lib/python3.6/site-packages/scipy/stats/_distn_infrastructure.py:1807: RuntimeWarning: invalid value encountered in greater_equal\n",
      "  cond2 = (x >= _b) & cond0\n"
     ]
    },
    {
     "name": "stdout",
     "output_type": "stream",
     "text": [
      "loading brains for subject: \n",
      "\n",
      " ['/Users/phoenix/Desktop/imaging_studies/ConceptualPriming/data_imaging/cp023/negative1/swracp023_n1.nii', '/Users/phoenix/Desktop/imaging_studies/ConceptualPriming/data_imaging/cp023/negative2/swracp023_n2.nii']\n",
      "creating dm for subject: 23.0\n",
      "/Users/phoenix/Desktop/imaging_studies/ConceptualPriming/data_behavioral/part1/CP_behavdata_23_1_n.dat\n",
      "/Users/phoenix/Desktop/imaging_studies/ConceptualPriming/data_behavioral/part1/CP_behavdata_23_2_n.dat\n"
     ]
    },
    {
     "name": "stderr",
     "output_type": "stream",
     "text": [
      "/Users/phoenix/anaconda3/lib/python3.6/site-packages/nltools/stats.py:992: RuntimeWarning: invalid value encountered in true_divide\n",
      "  t = b / stderr\n",
      "/Users/phoenix/anaconda3/lib/python3.6/site-packages/scipy/stats/_distn_infrastructure.py:901: RuntimeWarning: invalid value encountered in greater\n",
      "  return (a < x) & (x < b)\n",
      "/Users/phoenix/anaconda3/lib/python3.6/site-packages/scipy/stats/_distn_infrastructure.py:901: RuntimeWarning: invalid value encountered in less\n",
      "  return (a < x) & (x < b)\n",
      "/Users/phoenix/anaconda3/lib/python3.6/site-packages/scipy/stats/_distn_infrastructure.py:1807: RuntimeWarning: invalid value encountered in greater_equal\n",
      "  cond2 = (x >= _b) & cond0\n"
     ]
    },
    {
     "name": "stdout",
     "output_type": "stream",
     "text": [
      "loading brains for subject: \n",
      "\n",
      " ['/Users/phoenix/Desktop/imaging_studies/ConceptualPriming/data_imaging/cp024/negative1/swracp024_n1.nii', '/Users/phoenix/Desktop/imaging_studies/ConceptualPriming/data_imaging/cp024/negative2/swracp024_n2.nii']\n",
      "creating dm for subject: 24.0\n",
      "/Users/phoenix/Desktop/imaging_studies/ConceptualPriming/data_behavioral/part1/CP_behavdata_24_1_n.dat\n",
      "/Users/phoenix/Desktop/imaging_studies/ConceptualPriming/data_behavioral/part1/CP_behavdata_24_2_n.dat\n"
     ]
    },
    {
     "name": "stderr",
     "output_type": "stream",
     "text": [
      "/Users/phoenix/anaconda3/lib/python3.6/site-packages/nltools/stats.py:992: RuntimeWarning: invalid value encountered in true_divide\n",
      "  t = b / stderr\n",
      "/Users/phoenix/anaconda3/lib/python3.6/site-packages/scipy/stats/_distn_infrastructure.py:901: RuntimeWarning: invalid value encountered in greater\n",
      "  return (a < x) & (x < b)\n",
      "/Users/phoenix/anaconda3/lib/python3.6/site-packages/scipy/stats/_distn_infrastructure.py:901: RuntimeWarning: invalid value encountered in less\n",
      "  return (a < x) & (x < b)\n",
      "/Users/phoenix/anaconda3/lib/python3.6/site-packages/scipy/stats/_distn_infrastructure.py:1807: RuntimeWarning: invalid value encountered in greater_equal\n",
      "  cond2 = (x >= _b) & cond0\n"
     ]
    },
    {
     "name": "stdout",
     "output_type": "stream",
     "text": [
      "loading brains for subject: \n",
      "\n",
      " ['/Users/phoenix/Desktop/imaging_studies/ConceptualPriming/data_imaging/cp025/negative1/swracp025_n1.nii', '/Users/phoenix/Desktop/imaging_studies/ConceptualPriming/data_imaging/cp025/negative2/swracp025_n2.nii']\n",
      "creating dm for subject: 25.0\n",
      "/Users/phoenix/Desktop/imaging_studies/ConceptualPriming/data_behavioral/part1/CP_behavdata_25_1_n.dat\n",
      "/Users/phoenix/Desktop/imaging_studies/ConceptualPriming/data_behavioral/part1/CP_behavdata_25_2_n.dat\n"
     ]
    },
    {
     "name": "stderr",
     "output_type": "stream",
     "text": [
      "/Users/phoenix/anaconda3/lib/python3.6/site-packages/nltools/stats.py:992: RuntimeWarning: invalid value encountered in true_divide\n",
      "  t = b / stderr\n",
      "/Users/phoenix/anaconda3/lib/python3.6/site-packages/scipy/stats/_distn_infrastructure.py:901: RuntimeWarning: invalid value encountered in greater\n",
      "  return (a < x) & (x < b)\n",
      "/Users/phoenix/anaconda3/lib/python3.6/site-packages/scipy/stats/_distn_infrastructure.py:901: RuntimeWarning: invalid value encountered in less\n",
      "  return (a < x) & (x < b)\n",
      "/Users/phoenix/anaconda3/lib/python3.6/site-packages/scipy/stats/_distn_infrastructure.py:1807: RuntimeWarning: invalid value encountered in greater_equal\n",
      "  cond2 = (x >= _b) & cond0\n"
     ]
    },
    {
     "name": "stdout",
     "output_type": "stream",
     "text": [
      "loading brains for subject: \n",
      "\n",
      " ['/Users/phoenix/Desktop/imaging_studies/ConceptualPriming/data_imaging/cp026/negative1/swracp026_n1.nii', '/Users/phoenix/Desktop/imaging_studies/ConceptualPriming/data_imaging/cp026/negative2/swracp026_n2.nii']\n",
      "creating dm for subject: 26.0\n",
      "/Users/phoenix/Desktop/imaging_studies/ConceptualPriming/data_behavioral/part1/CP_behavdata_26_1_n.dat\n",
      "/Users/phoenix/Desktop/imaging_studies/ConceptualPriming/data_behavioral/part1/CP_behavdata_26_2_n.dat\n"
     ]
    },
    {
     "name": "stderr",
     "output_type": "stream",
     "text": [
      "/Users/phoenix/anaconda3/lib/python3.6/site-packages/nltools/stats.py:992: RuntimeWarning: invalid value encountered in true_divide\n",
      "  t = b / stderr\n",
      "/Users/phoenix/anaconda3/lib/python3.6/site-packages/scipy/stats/_distn_infrastructure.py:901: RuntimeWarning: invalid value encountered in greater\n",
      "  return (a < x) & (x < b)\n",
      "/Users/phoenix/anaconda3/lib/python3.6/site-packages/scipy/stats/_distn_infrastructure.py:901: RuntimeWarning: invalid value encountered in less\n",
      "  return (a < x) & (x < b)\n",
      "/Users/phoenix/anaconda3/lib/python3.6/site-packages/scipy/stats/_distn_infrastructure.py:1807: RuntimeWarning: invalid value encountered in greater_equal\n",
      "  cond2 = (x >= _b) & cond0\n"
     ]
    },
    {
     "name": "stdout",
     "output_type": "stream",
     "text": [
      "loading brains for subject: \n",
      "\n",
      " ['/Users/phoenix/Desktop/imaging_studies/ConceptualPriming/data_imaging/cp027/negative1/swracp027_n1.nii', '/Users/phoenix/Desktop/imaging_studies/ConceptualPriming/data_imaging/cp027/negative2/swracp027_n2.nii']\n",
      "creating dm for subject: 27.0\n",
      "/Users/phoenix/Desktop/imaging_studies/ConceptualPriming/data_behavioral/part1/CP_behavdata_27_1_n.dat\n",
      "/Users/phoenix/Desktop/imaging_studies/ConceptualPriming/data_behavioral/part1/CP_behavdata_27_2_n.dat\n"
     ]
    },
    {
     "name": "stderr",
     "output_type": "stream",
     "text": [
      "/Users/phoenix/anaconda3/lib/python3.6/site-packages/nltools/stats.py:992: RuntimeWarning: invalid value encountered in true_divide\n",
      "  t = b / stderr\n",
      "/Users/phoenix/anaconda3/lib/python3.6/site-packages/scipy/stats/_distn_infrastructure.py:901: RuntimeWarning: invalid value encountered in greater\n",
      "  return (a < x) & (x < b)\n",
      "/Users/phoenix/anaconda3/lib/python3.6/site-packages/scipy/stats/_distn_infrastructure.py:901: RuntimeWarning: invalid value encountered in less\n",
      "  return (a < x) & (x < b)\n",
      "/Users/phoenix/anaconda3/lib/python3.6/site-packages/scipy/stats/_distn_infrastructure.py:1807: RuntimeWarning: invalid value encountered in greater_equal\n",
      "  cond2 = (x >= _b) & cond0\n"
     ]
    },
    {
     "name": "stdout",
     "output_type": "stream",
     "text": [
      "loading brains for subject: \n",
      "\n",
      " ['/Users/phoenix/Desktop/imaging_studies/ConceptualPriming/data_imaging/cp028/negative1/swracp028_n1.nii', '/Users/phoenix/Desktop/imaging_studies/ConceptualPriming/data_imaging/cp028/negative2/swracp028_n2.nii']\n",
      "creating dm for subject: 28.0\n",
      "/Users/phoenix/Desktop/imaging_studies/ConceptualPriming/data_behavioral/part1/CP_behavdata_28_1_n.dat\n",
      "/Users/phoenix/Desktop/imaging_studies/ConceptualPriming/data_behavioral/part1/CP_behavdata_28_2_n.dat\n"
     ]
    },
    {
     "name": "stderr",
     "output_type": "stream",
     "text": [
      "/Users/phoenix/anaconda3/lib/python3.6/site-packages/nltools/stats.py:992: RuntimeWarning: invalid value encountered in true_divide\n",
      "  t = b / stderr\n",
      "/Users/phoenix/anaconda3/lib/python3.6/site-packages/scipy/stats/_distn_infrastructure.py:901: RuntimeWarning: invalid value encountered in greater\n",
      "  return (a < x) & (x < b)\n",
      "/Users/phoenix/anaconda3/lib/python3.6/site-packages/scipy/stats/_distn_infrastructure.py:901: RuntimeWarning: invalid value encountered in less\n",
      "  return (a < x) & (x < b)\n",
      "/Users/phoenix/anaconda3/lib/python3.6/site-packages/scipy/stats/_distn_infrastructure.py:1807: RuntimeWarning: invalid value encountered in greater_equal\n",
      "  cond2 = (x >= _b) & cond0\n"
     ]
    },
    {
     "name": "stdout",
     "output_type": "stream",
     "text": [
      "loading brains for subject: \n",
      "\n",
      " ['/Users/phoenix/Desktop/imaging_studies/ConceptualPriming/data_imaging/cp029/negative1/swracp029_n1.nii', '/Users/phoenix/Desktop/imaging_studies/ConceptualPriming/data_imaging/cp029/negative2/swracp029_n2.nii']\n",
      "creating dm for subject: 29.0\n",
      "/Users/phoenix/Desktop/imaging_studies/ConceptualPriming/data_behavioral/part1/CP_behavdata_29_1_n.dat\n",
      "/Users/phoenix/Desktop/imaging_studies/ConceptualPriming/data_behavioral/part1/CP_behavdata_29_2_n.dat\n"
     ]
    },
    {
     "name": "stderr",
     "output_type": "stream",
     "text": [
      "/Users/phoenix/anaconda3/lib/python3.6/site-packages/nltools/stats.py:992: RuntimeWarning: invalid value encountered in true_divide\n",
      "  t = b / stderr\n",
      "/Users/phoenix/anaconda3/lib/python3.6/site-packages/scipy/stats/_distn_infrastructure.py:901: RuntimeWarning: invalid value encountered in greater\n",
      "  return (a < x) & (x < b)\n",
      "/Users/phoenix/anaconda3/lib/python3.6/site-packages/scipy/stats/_distn_infrastructure.py:901: RuntimeWarning: invalid value encountered in less\n",
      "  return (a < x) & (x < b)\n",
      "/Users/phoenix/anaconda3/lib/python3.6/site-packages/scipy/stats/_distn_infrastructure.py:1807: RuntimeWarning: invalid value encountered in greater_equal\n",
      "  cond2 = (x >= _b) & cond0\n"
     ]
    },
    {
     "name": "stdout",
     "output_type": "stream",
     "text": [
      "loading brains for subject: \n",
      "\n",
      " ['/Users/phoenix/Desktop/imaging_studies/ConceptualPriming/data_imaging/cp030/negative1/swracp030_n1.nii', '/Users/phoenix/Desktop/imaging_studies/ConceptualPriming/data_imaging/cp030/negative2/swracp030_n2.nii']\n",
      "creating dm for subject: 30.0\n",
      "/Users/phoenix/Desktop/imaging_studies/ConceptualPriming/data_behavioral/part1/CP_behavdata_30_1_n.dat\n",
      "/Users/phoenix/Desktop/imaging_studies/ConceptualPriming/data_behavioral/part1/CP_behavdata_30_2_n.dat\n"
     ]
    },
    {
     "name": "stderr",
     "output_type": "stream",
     "text": [
      "/Users/phoenix/anaconda3/lib/python3.6/site-packages/nltools/stats.py:992: RuntimeWarning: invalid value encountered in true_divide\n",
      "  t = b / stderr\n",
      "/Users/phoenix/anaconda3/lib/python3.6/site-packages/scipy/stats/_distn_infrastructure.py:901: RuntimeWarning: invalid value encountered in greater\n",
      "  return (a < x) & (x < b)\n",
      "/Users/phoenix/anaconda3/lib/python3.6/site-packages/scipy/stats/_distn_infrastructure.py:901: RuntimeWarning: invalid value encountered in less\n",
      "  return (a < x) & (x < b)\n",
      "/Users/phoenix/anaconda3/lib/python3.6/site-packages/scipy/stats/_distn_infrastructure.py:1807: RuntimeWarning: invalid value encountered in greater_equal\n",
      "  cond2 = (x >= _b) & cond0\n"
     ]
    }
   ],
   "source": [
    "#data info\n",
    "N_TR = 170\n",
    "tr_length = 3\n",
    "string_conditions=['amused','awe','excited']\n",
    "regressor_names = ['congruent','incongruent','noprime']#,'amused','awe','excited']\n",
    "fwhm = 6\n",
    "\n",
    "#paths\n",
    "first_level_folder = 'first_level_conditiononly_negative_1022519/'\n",
    "part1_behavioural_data = \"/Users/phoenix/Desktop/imaging_studies/ConceptualPriming/data_behavioral/part1/\"\n",
    "motion_covariates = 'covariates/cp0{subject_num}/rp_acp0{subject_num}_n*.txt'\n",
    "brains = \"/Users/phoenix/Desktop/imaging_studies/ConceptualPriming/data_imaging/cp0{subject_num}/negative*/swracp0{subject_num}_n*.nii\"\n",
    "\n",
    "\n",
    "column_list =['condition', 'respout', 'RT', 'primeword', 'PrimeOnsetTime',\n",
    "              'StimulusOnsetTime', 'TrialOffset', 'IAPS_ID', 'maxcatind', \n",
    "              'mincatind','maxcatmean', 'mincatmean', 'maxmincat_power', \n",
    "              'AmusMean', 'AmusSD', 'AweMean','AweSD','ExciMean','ExciSD',\n",
    "              'ContMean','ContSD','CongWord','CongNeutral','IncongWord',\"\"\n",
    "              'IncongNeutral']\n",
    "\n",
    "behavioural=pd.read_csv(single_subject,names=column_list,sep=' ')\n",
    "\n",
    "subject_list = np.linspace(1,30,30)\n",
    "#for file in behavioural_files:\n",
    "for i in subject_list: \n",
    "    \n",
    "    all_runs = Design_Matrix(sampling_freq = 1/tr_length)\n",
    "    \n",
    "    subject_num_str = '0'+str(int(i)) if i <10 else str(int(i))\n",
    "    positive_behaviourals = glob.glob(part1_behavioural_data + '*_' + str(int(i)) + '_*_n.dat')\n",
    "    positive_covariates = glob.glob(motion_covariates.format(subject_num=subject_num_str))\n",
    "    positive_brains_files = glob.glob(brains.format(subject_num=subject_num_str))\n",
    "    \n",
    "    print('loading brains for subject: \\n\\n',positive_brains_files)\n",
    "    positive_brains = Brain_Data(positive_brains_files)\n",
    "    \n",
    "    print('creating dm for subject:',i)\n",
    "    for i in range(len(positive_behaviourals)):\n",
    "        print(positive_behaviourals[i])\n",
    "        behavioural=pd.read_csv(positive_behaviourals[i],\n",
    "                                names=column_list,\n",
    "                                sep=' ')\n",
    "        behavioural = behavioural.drop(behavioural.index[0:2])\n",
    "        \n",
    "        covariates = pd.read_csv(positive_covariates[i], header=None)\n",
    "        dm_run = CreateDMInTRSpace(N_TR,\n",
    "                                      tr_length,\n",
    "                                      string_conditions,\n",
    "                                      behavioural,\n",
    "                                      regressor_names,\n",
    "                                       i,\n",
    "                                      covariates=covariates)\n",
    "        \n",
    "        dm_run.sampling_freq = 1/tr_length # why do we have to do this.... no one knows?\n",
    "        all_runs = all_runs.append(dm_run,axis=0)\n",
    "        \n",
    "    all_runs = all_runs.fillna(0)    \n",
    "    #regress and smooth\n",
    "    positive_brains.X = all_runs\n",
    "    stats = positive_brains.regress()\n",
    "    smoothed = stats['beta'].smooth(fwhm=fwhm)\n",
    "    \n",
    "    #save data\n",
    "    subject_folder = positive_covariates[0].split('/')[1]\n",
    "    subject_folder_path = first_level_folder + subject_folder\n",
    "    os.mkdir(subject_folder_path)\n",
    "    stats['beta'].write(subject_folder_path + '/betas_unsmoothed.nii.gz')\n",
    "    smoothed.write(subject_folder_path + '/betas_denoised_smoothed_preprocessed_fMRI_bold.nii.gz')\n",
    "    all_runs.to_csv(subject_folder_path + '/design_matrix.csv')\n",
    "\n",
    "    \n"
   ]
  },
  {
   "cell_type": "code",
   "execution_count": 23,
   "metadata": {},
   "outputs": [
    {
     "data": {
      "text/plain": [
       "Index(['congruent_c0', 'incongruent_c0', 'noprime_c0'], dtype='object')"
      ]
     },
     "execution_count": 23,
     "metadata": {},
     "output_type": "execute_result"
    }
   ],
   "source": [
    "all_runs.columns[[0,6,7]]"
   ]
  },
  {
   "cell_type": "code",
   "execution_count": 66,
   "metadata": {},
   "outputs": [],
   "source": [
    "all_runs.to_csv(subject_folder_path + 'design_matrix.csv')"
   ]
  },
  {
   "cell_type": "code",
   "execution_count": 79,
   "metadata": {},
   "outputs": [
    {
     "data": {
      "text/plain": [
       "nltools.data.brain_data.Brain_Data(data=(340, 238955), Y=0, X=(340, 19), mask=MNI152_T1_2mm_brain_mask.nii.gz, output_file=[])"
      ]
     },
     "execution_count": 79,
     "metadata": {},
     "output_type": "execute_result"
    }
   ],
   "source": [
    "positive_brains"
   ]
  },
  {
   "cell_type": "code",
   "execution_count": 82,
   "metadata": {
    "scrolled": true
   },
   "outputs": [
    {
     "data": {
      "text/plain": [
       "['first_level_emotcat_09282019/cp001/betas_denoised_smoothed_preprocessed_fMRI_bold.nii.gz',\n",
       " 'first_level_emotcat_09282019/cp002/betas_denoised_smoothed_preprocessed_fMRI_bold.nii.gz',\n",
       " 'first_level_emotcat_09282019/cp003/betas_denoised_smoothed_preprocessed_fMRI_bold.nii.gz',\n",
       " 'first_level_emotcat_09282019/cp004/betas_denoised_smoothed_preprocessed_fMRI_bold.nii.gz',\n",
       " 'first_level_emotcat_09282019/cp005/betas_denoised_smoothed_preprocessed_fMRI_bold.nii.gz',\n",
       " 'first_level_emotcat_09282019/cp006/betas_denoised_smoothed_preprocessed_fMRI_bold.nii.gz',\n",
       " 'first_level_emotcat_09282019/cp007/betas_denoised_smoothed_preprocessed_fMRI_bold.nii.gz',\n",
       " 'first_level_emotcat_09282019/cp008/betas_denoised_smoothed_preprocessed_fMRI_bold.nii.gz',\n",
       " 'first_level_emotcat_09282019/cp009/betas_denoised_smoothed_preprocessed_fMRI_bold.nii.gz',\n",
       " 'first_level_emotcat_09282019/cp010/betas_denoised_smoothed_preprocessed_fMRI_bold.nii.gz',\n",
       " 'first_level_emotcat_09282019/cp011/betas_denoised_smoothed_preprocessed_fMRI_bold.nii.gz',\n",
       " 'first_level_emotcat_09282019/cp012/betas_denoised_smoothed_preprocessed_fMRI_bold.nii.gz',\n",
       " 'first_level_emotcat_09282019/cp013/betas_denoised_smoothed_preprocessed_fMRI_bold.nii.gz',\n",
       " 'first_level_emotcat_09282019/cp014/betas_denoised_smoothed_preprocessed_fMRI_bold.nii.gz',\n",
       " 'first_level_emotcat_09282019/cp015/betas_denoised_smoothed_preprocessed_fMRI_bold.nii.gz',\n",
       " 'first_level_emotcat_09282019/cp016/betas_denoised_smoothed_preprocessed_fMRI_bold.nii.gz',\n",
       " 'first_level_emotcat_09282019/cp017/betas_denoised_smoothed_preprocessed_fMRI_bold.nii.gz',\n",
       " 'first_level_emotcat_09282019/cp018/betas_denoised_smoothed_preprocessed_fMRI_bold.nii.gz',\n",
       " 'first_level_emotcat_09282019/cp019/betas_denoised_smoothed_preprocessed_fMRI_bold.nii.gz',\n",
       " 'first_level_emotcat_09282019/cp020/betas_denoised_smoothed_preprocessed_fMRI_bold.nii.gz',\n",
       " 'first_level_emotcat_09282019/cp021/betas_denoised_smoothed_preprocessed_fMRI_bold.nii.gz',\n",
       " 'first_level_emotcat_09282019/cp022/betas_denoised_smoothed_preprocessed_fMRI_bold.nii.gz',\n",
       " 'first_level_emotcat_09282019/cp023/betas_denoised_smoothed_preprocessed_fMRI_bold.nii.gz',\n",
       " 'first_level_emotcat_09282019/cp024/betas_denoised_smoothed_preprocessed_fMRI_bold.nii.gz',\n",
       " 'first_level_emotcat_09282019/cp025/betas_denoised_smoothed_preprocessed_fMRI_bold.nii.gz',\n",
       " 'first_level_emotcat_09282019/cp026/betas_denoised_smoothed_preprocessed_fMRI_bold.nii.gz',\n",
       " 'first_level_emotcat_09282019/cp027/betas_denoised_smoothed_preprocessed_fMRI_bold.nii.gz',\n",
       " 'first_level_emotcat_09282019/cp028/betas_denoised_smoothed_preprocessed_fMRI_bold.nii.gz',\n",
       " 'first_level_emotcat_09282019/cp029/betas_denoised_smoothed_preprocessed_fMRI_bold.nii.gz',\n",
       " 'first_level_emotcat_09282019/cp030/betas_denoised_smoothed_preprocessed_fMRI_bold.nii.gz']"
      ]
     },
     "execution_count": 82,
     "metadata": {},
     "output_type": "execute_result"
    }
   ],
   "source": [
    "glob.glob('first_level_emotcat_09282019/*/*.nii.gz')"
   ]
  },
  {
   "cell_type": "code",
   "execution_count": 111,
   "metadata": {},
   "outputs": [
    {
     "name": "stdout",
     "output_type": "stream",
     "text": [
      "doing sub cp001\n",
      "doing sub cp002\n",
      "doing sub cp003\n",
      "doing sub cp004\n",
      "doing sub cp005\n",
      "doing sub cp006\n",
      "doing sub cp007\n",
      "doing sub cp008\n",
      "doing sub cp009\n",
      "doing sub cp010\n",
      "doing sub cp011\n",
      "doing sub cp012\n",
      "doing sub cp013\n",
      "doing sub cp014\n",
      "doing sub cp015\n",
      "doing sub cp016\n",
      "doing sub cp017\n",
      "doing sub cp018\n",
      "doing sub cp019\n",
      "doing sub cp020\n",
      "doing sub cp021\n",
      "doing sub cp022\n",
      "doing sub cp023\n",
      "doing sub cp024\n",
      "doing sub cp025\n",
      "doing sub cp026\n",
      "doing sub cp027\n",
      "doing sub cp028\n",
      "doing sub cp029\n",
      "doing sub cp030\n"
     ]
    }
   ],
   "source": [
    "data_dir = 'first_level_emotcat_09282019/'\n",
    "file_list = glob.glob(os.path.join(os.getcwd(),data_dir, '*', 'betas_denoised_smoothed_preprocessed_fMRI_bold.nii.gz'))\n",
    "df = pd.read_csv('/Users/phoenix/Desktop/imaging_studies/ConceptualPriming/nipy/first_level_emotcat_09282019/cp001/design_matrix.csv')\n",
    "for f in file_list:\n",
    "    sub = os.path.dirname(f).split('/')[-1]\n",
    "    print('doing sub', sub)\n",
    "    dat = Brain_Data(f)\n",
    "    for i in range(df.shape[1]-1):\n",
    "        dat[i].write(os.path.join(data_dir, sub, f\"{sub}_beta_{df.columns[i+1]}.nii.gz\"))"
   ]
  },
  {
   "cell_type": "code",
   "execution_count": 5,
   "metadata": {},
   "outputs": [],
   "source": [
    "dm = Design_Matrix(raw_dm, sampling_freq=1000, columns=['congruent',\n",
    "                                                         'incongruent',\n",
    "                                                         'noprime',\n",
    "                                                         'amused',\n",
    "                                                         'awe',\n",
    "                                                         'excited'])\n",
    "\n",
    "dm = dm.convolve()"
   ]
  },
  {
   "cell_type": "code",
   "execution_count": 110,
   "metadata": {},
   "outputs": [
    {
     "ename": "AttributeError",
     "evalue": "'function' object has no attribute 'data'",
     "output_type": "error",
     "traceback": [
      "\u001b[0;31m---------------------------------------------------------------------------\u001b[0m",
      "\u001b[0;31mAttributeError\u001b[0m                            Traceback (most recent call last)",
      "\u001b[0;32m<ipython-input-110-24f0268551c4>\u001b[0m in \u001b[0;36m<module>\u001b[0;34m()\u001b[0m\n\u001b[0;32m----> 1\u001b[0;31m \u001b[0mdat\u001b[0m\u001b[0;34m.\u001b[0m\u001b[0mshape\u001b[0m\u001b[0;34m.\u001b[0m\u001b[0mdata\u001b[0m\u001b[0;34m\u001b[0m\u001b[0m\n\u001b[0m",
      "\u001b[0;31mAttributeError\u001b[0m: 'function' object has no attribute 'data'"
     ]
    }
   ],
   "source": []
  },
  {
   "cell_type": "code",
   "execution_count": 8,
   "metadata": {},
   "outputs": [],
   "source": [
    "covariatesFile = '/Users/phoenix/Desktop/imaging_studies/ConceptualPriming/data_imaging/cp024/positive1/covariates_test.csv'\n",
    "cov = pd.read_csv(covariatesFile, header=None)\n",
    "cov = Design_Matrix(cov, sampling_freq = 1/3)\n",
    "\n",
    "cov = cov.fillna(0)\n",
    "\n",
    "# Retain a list of nuisance covariates (e.g. motion and spikes) which we'll also want to also keep separate for each run\n",
    "cov_columns = cov.columns\n",
    "cov = cov.add_poly(1).add_dct_basis()"
   ]
  },
  {
   "cell_type": "code",
   "execution_count": 11,
   "metadata": {},
   "outputs": [],
   "source": [
    "dm_trspace = dm.iloc[::3000,:]\n",
    "dm_trspace = dm_trspace.reset_index(drop=True)\n",
    "dm_trspace.sampling_freq= 1/3\n",
    "full = pd.concat([dm_trspace,cov], axis=1)"
   ]
  },
  {
   "cell_type": "code",
   "execution_count": 12,
   "metadata": {},
   "outputs": [
    {
     "data": {
      "image/png": "[encoded data removed]",
      "text/plain": [
       "<Figure size 576x432 with 1 Axes>"
      ]
     },
     "metadata": {},
     "output_type": "display_data"
    }
   ],
   "source": [
    "full.heatmap()"
   ]
  },
  {
   "cell_type": "code",
   "execution_count": 13,
   "metadata": {},
   "outputs": [
    {
     "name": "stderr",
     "output_type": "stream",
     "text": [
      "/Users/phoenix/anaconda3/lib/python3.6/site-packages/nltools/stats.py:983: RuntimeWarning: invalid value encountered in sqrt\n",
      "  stderr = np.sqrt(np.diag(np.linalg.pinv(np.dot(X.T, X))))[:, np.newaxis] * sigma[np.newaxis, :]\n",
      "/Users/phoenix/anaconda3/lib/python3.6/site-packages/nltools/stats.py:992: RuntimeWarning: invalid value encountered in true_divide\n",
      "  t = b / stderr\n",
      "/Users/phoenix/anaconda3/lib/python3.6/site-packages/scipy/stats/_distn_infrastructure.py:879: RuntimeWarning: invalid value encountered in greater\n",
      "  return (self.a < x) & (x < self.b)\n",
      "/Users/phoenix/anaconda3/lib/python3.6/site-packages/scipy/stats/_distn_infrastructure.py:879: RuntimeWarning: invalid value encountered in less\n",
      "  return (self.a < x) & (x < self.b)\n",
      "/Users/phoenix/anaconda3/lib/python3.6/site-packages/scipy/stats/_distn_infrastructure.py:1738: RuntimeWarning: invalid value encountered in greater_equal\n",
      "  cond2 = (x >= self.b) & cond0\n"
     ]
    }
   ],
   "source": [
    "subject_brain.X = full\n",
    "results = subject_brain.regress()"
   ]
  },
  {
   "cell_type": "code",
   "execution_count": 18,
   "metadata": {},
   "outputs": [
    {
     "data": {
      "text/plain": [
       "<nilearn.plotting.displays.OrthoProjector at 0x1c1f336630>"
      ]
     },
     "execution_count": 18,
     "metadata": {},
     "output_type": "execute_result"
    },
    {
     "data": {
      "image/png": "[encoded data removed]",
      "text/plain": [
       "<Figure size 475.2x187.2 with 4 Axes>"
      ]
     },
     "metadata": {},
     "output_type": "display_data"
    }
   ],
   "source": [
    "from nilearn.plotting import plot_glass_brain\n",
    "\n",
    "plot_glass_brain(results['beta'][4].to_nifti())"
   ]
  },
  {
   "cell_type": "code",
   "execution_count": 125,
   "metadata": {},
   "outputs": [
    {
     "data": {
      "text/plain": [
       "Index(['congruent_c0', 'incongruent_c0', 'noprime_c0', 'amused_c0', 'awe_c0',\n",
       "       'excited_c0', '0', '1', '2', '3', '4', '5', 'poly_0', 'poly_1',\n",
       "       'cosine_1', 'cosine_2', 'cosine_3', 'cosine_4', 'cosine_5'],\n",
       "      dtype='object')"
      ]
     },
     "execution_count": 125,
     "metadata": {},
     "output_type": "execute_result"
    }
   ],
   "source": [
    "subject_brain.X.columns"
   ]
  },
  {
   "cell_type": "code",
   "execution_count": 29,
   "metadata": {},
   "outputs": [
    {
     "data": {
      "text/plain": [
       "['/Users/phoenix/Desktop/imaging_studies/ConceptualPriming/data_behavioral/part1/CP_behavdata_24_1_p.dat',\n",
       " '/Users/phoenix/Desktop/imaging_studies/ConceptualPriming/data_behavioral/part1/CP_behavdata_24_2_p.dat']"
      ]
     },
     "execution_count": 29,
     "metadata": {},
     "output_type": "execute_result"
    }
   ],
   "source": [
    "glob.glob(\"/Users/phoenix/Desktop/imaging_studies/ConceptualPriming/data_behavioral/part1/CP_behavdata_24_*_p.dat\")"
   ]
  },
  {
   "cell_type": "code",
   "execution_count": null,
   "metadata": {},
   "outputs": [],
   "source": []
  },
  {
   "cell_type": "code",
   "execution_count": 119,
   "metadata": {},
   "outputs": [
    {
     "data": {
      "text/plain": [
       "dict_keys(['beta', 't', 'p', 'sigma', 'residual'])"
      ]
     },
     "execution_count": 119,
     "metadata": {},
     "output_type": "execute_result"
    }
   ],
   "source": [
    "results.keys()"
   ]
  },
  {
   "cell_type": "code",
   "execution_count": 112,
   "metadata": {},
   "outputs": [
    {
     "ename": "NameError",
     "evalue": "name 'base_dir' is not defined",
     "output_type": "error",
     "traceback": [
      "\u001b[0;31m---------------------------------------------------------------------------\u001b[0m",
      "\u001b[0;31mNameError\u001b[0m                                 Traceback (most recent call last)",
      "\u001b[0;32m<ipython-input-112-e6a16bad0e22>\u001b[0m in \u001b[0;36m<module>\u001b[0;34m()\u001b[0m\n\u001b[0;32m----> 1\u001b[0;31m \u001b[0mmask\u001b[0m \u001b[0;34m=\u001b[0m \u001b[0mBrain_Data\u001b[0m\u001b[0;34m(\u001b[0m\u001b[0mos\u001b[0m\u001b[0;34m.\u001b[0m\u001b[0mpath\u001b[0m\u001b[0;34m.\u001b[0m\u001b[0mjoin\u001b[0m\u001b[0;34m(\u001b[0m\u001b[0mbase_dir\u001b[0m\u001b[0;34m,\u001b[0m \u001b[0;34m'resources'\u001b[0m\u001b[0;34m,\u001b[0m \u001b[0;34m'masks'\u001b[0m\u001b[0;34m,\u001b[0m \u001b[0;34m'k50_2mm.nii.gz'\u001b[0m\u001b[0;34m)\u001b[0m\u001b[0;34m)\u001b[0m\u001b[0;34m\u001b[0m\u001b[0m\n\u001b[0m\u001b[1;32m      2\u001b[0m \u001b[0mmask_x\u001b[0m \u001b[0;34m=\u001b[0m \u001b[0mexpand_mask\u001b[0m\u001b[0;34m(\u001b[0m\u001b[0mmask\u001b[0m\u001b[0;34m)\u001b[0m\u001b[0;34m\u001b[0m\u001b[0m\n\u001b[1;32m      3\u001b[0m \u001b[0;34m\u001b[0m\u001b[0m\n\u001b[1;32m      4\u001b[0m \u001b[0mf\u001b[0m \u001b[0;34m=\u001b[0m \u001b[0mmask\u001b[0m\u001b[0;34m.\u001b[0m\u001b[0mplot\u001b[0m\u001b[0;34m(\u001b[0m\u001b[0;34m)\u001b[0m\u001b[0;34m\u001b[0m\u001b[0m\n",
      "\u001b[0;31mNameError\u001b[0m: name 'base_dir' is not defined"
     ]
    }
   ],
   "source": [
    "mask = Brain_Data(os.path.join(base_dir, 'resources', 'masks', 'k50_2mm.nii.gz'))\n",
    "mask_x = expand_mask(mask)\n",
    "\n",
    "f = mask.plot()"
   ]
  },
  {
   "cell_type": "code",
   "execution_count": null,
   "metadata": {},
   "outputs": [],
   "source": []
  }
 ],
 "metadata": {
  "kernelspec": {
   "display_name": "Python 3",
   "language": "python",
   "name": "python3"
  },
  "language_info": {
   "codemirror_mode": {
    "name": "ipython",
    "version": 3
   },
   "file_extension": ".py",
   "mimetype": "text/x-python",
   "name": "python",
   "nbconvert_exporter": "python",
   "pygments_lexer": "ipython3",
   "version": "3.6.4"
  }
 },
 "nbformat": 4,
 "nbformat_minor": 2
}
