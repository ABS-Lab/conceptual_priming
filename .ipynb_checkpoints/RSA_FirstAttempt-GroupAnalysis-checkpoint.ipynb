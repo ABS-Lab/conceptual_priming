{
 "cells": [
  {
   "cell_type": "code",
   "execution_count": 2,
   "metadata": {},
   "outputs": [],
   "source": [
    "%matplotlib inline\n",
    "\n",
    "import os\n",
    "import glob\n",
    "import numpy as np\n",
    "import pandas as pd\n",
    "import matplotlib.pyplot as plt\n",
    "import seaborn as sns\n",
    "from nltools.data import Brain_Data, Adjacency\n",
    "from nltools.mask import expand_mask\n",
    "from nltools.stats import fdr, threshold, fisher_r_to_z, one_sample_permutation\n",
    "from sklearn.metrics import pairwise_distances\n",
    "from nilearn.plotting import plot_glass_brain, plot_stat_map\n",
    "import nilearn.plotting as plotting\n",
    "from nilearn import datasets\n",
    "from nilearn import plotting\n"
   ]
  },
  {
   "cell_type": "markdown",
   "metadata": {},
   "source": [
    "## GROUP ANALYSIS"
   ]
  },
  {
   "cell_type": "code",
   "execution_count": 4,
   "metadata": {},
   "outputs": [
    {
     "name": "stdout",
     "output_type": "stream",
     "text": [
      "first_level_emotcat_09282019/cp001\n",
      "loading brains\n",
      "calculating_distance\n",
      "first_level_emotcat_09282019/cp002\n",
      "loading brains\n",
      "calculating_distance\n",
      "first_level_emotcat_09282019/cp003\n",
      "loading brains\n",
      "calculating_distance\n",
      "first_level_emotcat_09282019/cp004\n",
      "loading brains\n",
      "calculating_distance\n",
      "first_level_emotcat_09282019/cp005\n",
      "loading brains\n",
      "calculating_distance\n",
      "first_level_emotcat_09282019/cp006\n",
      "loading brains\n",
      "calculating_distance\n",
      "first_level_emotcat_09282019/cp007\n",
      "loading brains\n",
      "calculating_distance\n",
      "first_level_emotcat_09282019/cp008\n",
      "loading brains\n",
      "calculating_distance\n",
      "first_level_emotcat_09282019/cp009\n",
      "loading brains\n",
      "calculating_distance\n",
      "first_level_emotcat_09282019/cp010\n",
      "loading brains\n",
      "calculating_distance\n",
      "first_level_emotcat_09282019/cp011\n",
      "loading brains\n",
      "calculating_distance\n",
      "first_level_emotcat_09282019/cp012\n",
      "loading brains\n",
      "calculating_distance\n",
      "first_level_emotcat_09282019/cp013\n",
      "loading brains\n",
      "calculating_distance\n",
      "first_level_emotcat_09282019/cp014\n",
      "loading brains\n",
      "calculating_distance\n",
      "first_level_emotcat_09282019/cp015\n",
      "loading brains\n",
      "calculating_distance\n",
      "first_level_emotcat_09282019/cp016\n",
      "loading brains\n",
      "calculating_distance\n",
      "first_level_emotcat_09282019/cp017\n",
      "loading brains\n",
      "calculating_distance\n",
      "first_level_emotcat_09282019/cp018\n",
      "loading brains\n",
      "calculating_distance\n",
      "first_level_emotcat_09282019/cp019\n",
      "loading brains\n",
      "calculating_distance\n",
      "first_level_emotcat_09282019/cp020\n",
      "loading brains\n",
      "calculating_distance\n",
      "first_level_emotcat_09282019/cp021\n",
      "loading brains\n",
      "calculating_distance\n",
      "first_level_emotcat_09282019/cp022\n",
      "loading brains\n",
      "calculating_distance\n",
      "first_level_emotcat_09282019/cp023\n",
      "loading brains\n",
      "calculating_distance\n",
      "first_level_emotcat_09282019/cp024\n",
      "loading brains\n",
      "calculating_distance\n",
      "first_level_emotcat_09282019/cp025\n",
      "loading brains\n",
      "calculating_distance\n",
      "first_level_emotcat_09282019/cp026\n",
      "loading brains\n",
      "calculating_distance\n",
      "first_level_emotcat_09282019/cp027\n",
      "loading brains\n",
      "calculating_distance\n",
      "first_level_emotcat_09282019/cp028\n",
      "loading brains\n",
      "calculating_distance\n",
      "first_level_emotcat_09282019/cp029\n",
      "loading brains\n",
      "calculating_distance\n",
      "first_level_emotcat_09282019/cp030\n",
      "loading brains\n",
      "calculating_distance\n"
     ]
    }
   ],
   "source": [
    "data_dir = 'first_level_emotcat_09282019/'\n",
    "sub_list = glob.glob(os.path.join(data_dir,'*'))\n",
    "\n",
    "dmn_mask = Brain_Data('mask_dmn_bin.nii')\n",
    "dmn_mask_x = expand_mask(dmn_mask)\n",
    "dmn_mask_x\n",
    "\n",
    "\n",
    "dmn_distance = []\n",
    "for sub in sub_list:\n",
    "    print(sub)\n",
    "    # only get betas of relevance\n",
    "    file_list = glob.glob(os.path.join(sub, '*_*c0.nii.gz'))\n",
    "    #reorder so emotions are close\n",
    "    beta_order = [0,1,3,2,4,5]\n",
    "    #reordered list\n",
    "    file_list_ordered = [file_list[i] for i in beta_order]\n",
    "    #load brain data\n",
    "    print('loading brains')\n",
    "    beta = Brain_Data(file_list)\n",
    "    #get labels\n",
    "    condition_labels = [file[46:51] for file in file_list_ordered]\n",
    "    #calculate distance \n",
    "    print('calculating_distance')\n",
    "    dmn_distance_subject = beta.apply_mask(dmn_mask).distance(method='correlation')\n",
    "    #append\n",
    "    dmn_distance.append(dmn_distance_subject)\n",
    "    \n",
    "    "
   ]
  },
  {
   "cell_type": "markdown",
   "metadata": {},
   "source": [
    "## Analyze similarity"
   ]
  },
  {
   "cell_type": "code",
   "execution_count": 16,
   "metadata": {},
   "outputs": [],
   "source": [
    "summed_scores = dmn_distance[-1].data\n",
    "for i in range(len(dmn_distance)-1):\n",
    "    summed_scores += dmn_distance[i].data"
   ]
  },
  {
   "cell_type": "code",
   "execution_count": 20,
   "metadata": {},
   "outputs": [],
   "source": [
    "averaged_scores = summed_scores/len(dmn_distance)"
   ]
  },
  {
   "cell_type": "code",
   "execution_count": 25,
   "metadata": {},
   "outputs": [
    {
     "data": {
      "image/png": "[encoded data removed]",
      "text/plain": [
       "<Figure size 504x360 with 2 Axes>"
      ]
     },
     "metadata": {},
     "output_type": "display_data"
    }
   ],
   "source": [
    "avg_adjacency = Adjacency(averaged_scores)\n",
    "avg_adjacency.labels = condition_labels\n",
    "fig = avg_adjacency.plot(vmax=2, vmin=0)"
   ]
  },
  {
   "cell_type": "code",
   "execution_count": null,
   "metadata": {},
   "outputs": [],
   "source": []
  }
 ],
 "metadata": {
  "kernelspec": {
   "display_name": "Python 3",
   "language": "python",
   "name": "python3"
  },
  "language_info": {
   "codemirror_mode": {
    "name": "ipython",
    "version": 3
   },
   "file_extension": ".py",
   "mimetype": "text/x-python",
   "name": "python",
   "nbconvert_exporter": "python",
   "pygments_lexer": "ipython3",
   "version": "3.6.4"
  }
 },
 "nbformat": 4,
 "nbformat_minor": 2
}
