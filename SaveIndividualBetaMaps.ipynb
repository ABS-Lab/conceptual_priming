{
 "cells": [
  {
   "cell_type": "code",
   "execution_count": 1,
   "metadata": {},
   "outputs": [],
   "source": [
    "%matplotlib inline\n",
    "\n",
    "import os\n",
    "import glob\n",
    "import numpy as np\n",
    "import pandas as pd\n",
    "import matplotlib.pyplot as plt\n",
    "import seaborn as sns\n",
    "from nltools.stats import regress, zscore\n",
    "from nltools.data import Brain_Data, Design_Matrix\n",
    "from nltools.stats import find_spikes "
   ]
  },
  {
   "cell_type": "code",
   "execution_count": 27,
   "metadata": {},
   "outputs": [],
   "source": [
    "data_dir = 'first_level_conditiononly_1022519/'\n",
    "columns_of_interest = {'congruent':0,#'congruent_c0', #'incongruent_c0', 'noprime_c0'\n",
    "                       'incongruent':6,#'incongruent_c0'\n",
    "                      'noprime':7}#'noprime_c0'\n",
    "sub_list = glob.glob(os.path.join(data_dir,'*','*_smoothed*'))\n",
    "one_subj = Brain_Data(sub_list[0])"
   ]
  },
  {
   "cell_type": "code",
   "execution_count": 29,
   "metadata": {},
   "outputs": [
    {
     "name": "stdout",
     "output_type": "stream",
     "text": [
      "first_level_conditiononly_1022519/cp001/congruent.nii.gz\n",
      "first_level_conditiononly_1022519/cp001/incongruent.nii.gz\n",
      "first_level_conditiononly_1022519/cp001/noprime.nii.gz\n",
      "first_level_conditiononly_1022519/cp002/congruent.nii.gz\n",
      "first_level_conditiononly_1022519/cp002/incongruent.nii.gz\n",
      "first_level_conditiononly_1022519/cp002/noprime.nii.gz\n",
      "first_level_conditiononly_1022519/cp003/congruent.nii.gz\n",
      "first_level_conditiononly_1022519/cp003/incongruent.nii.gz\n",
      "first_level_conditiononly_1022519/cp003/noprime.nii.gz\n",
      "first_level_conditiononly_1022519/cp004/congruent.nii.gz\n",
      "first_level_conditiononly_1022519/cp004/incongruent.nii.gz\n",
      "first_level_conditiononly_1022519/cp004/noprime.nii.gz\n",
      "first_level_conditiononly_1022519/cp005/congruent.nii.gz\n",
      "first_level_conditiononly_1022519/cp005/incongruent.nii.gz\n",
      "first_level_conditiononly_1022519/cp005/noprime.nii.gz\n",
      "first_level_conditiononly_1022519/cp006/congruent.nii.gz\n",
      "first_level_conditiononly_1022519/cp006/incongruent.nii.gz\n",
      "first_level_conditiononly_1022519/cp006/noprime.nii.gz\n",
      "first_level_conditiononly_1022519/cp007/congruent.nii.gz\n",
      "first_level_conditiononly_1022519/cp007/incongruent.nii.gz\n",
      "first_level_conditiononly_1022519/cp007/noprime.nii.gz\n",
      "first_level_conditiononly_1022519/cp008/congruent.nii.gz\n",
      "first_level_conditiononly_1022519/cp008/incongruent.nii.gz\n",
      "first_level_conditiononly_1022519/cp008/noprime.nii.gz\n",
      "first_level_conditiononly_1022519/cp009/congruent.nii.gz\n",
      "first_level_conditiononly_1022519/cp009/incongruent.nii.gz\n",
      "first_level_conditiononly_1022519/cp009/noprime.nii.gz\n",
      "first_level_conditiononly_1022519/cp010/congruent.nii.gz\n",
      "first_level_conditiononly_1022519/cp010/incongruent.nii.gz\n",
      "first_level_conditiononly_1022519/cp010/noprime.nii.gz\n",
      "first_level_conditiononly_1022519/cp011/congruent.nii.gz\n",
      "first_level_conditiononly_1022519/cp011/incongruent.nii.gz\n",
      "first_level_conditiononly_1022519/cp011/noprime.nii.gz\n",
      "first_level_conditiononly_1022519/cp012/congruent.nii.gz\n",
      "first_level_conditiononly_1022519/cp012/incongruent.nii.gz\n",
      "first_level_conditiononly_1022519/cp012/noprime.nii.gz\n",
      "first_level_conditiononly_1022519/cp013/congruent.nii.gz\n",
      "first_level_conditiononly_1022519/cp013/incongruent.nii.gz\n",
      "first_level_conditiononly_1022519/cp013/noprime.nii.gz\n",
      "first_level_conditiononly_1022519/cp014/congruent.nii.gz\n",
      "first_level_conditiononly_1022519/cp014/incongruent.nii.gz\n",
      "first_level_conditiononly_1022519/cp014/noprime.nii.gz\n",
      "first_level_conditiononly_1022519/cp015/congruent.nii.gz\n",
      "first_level_conditiononly_1022519/cp015/incongruent.nii.gz\n",
      "first_level_conditiononly_1022519/cp015/noprime.nii.gz\n",
      "first_level_conditiononly_1022519/cp016/congruent.nii.gz\n",
      "first_level_conditiononly_1022519/cp016/incongruent.nii.gz\n",
      "first_level_conditiononly_1022519/cp016/noprime.nii.gz\n",
      "first_level_conditiononly_1022519/cp017/congruent.nii.gz\n",
      "first_level_conditiononly_1022519/cp017/incongruent.nii.gz\n",
      "first_level_conditiononly_1022519/cp017/noprime.nii.gz\n",
      "first_level_conditiononly_1022519/cp018/congruent.nii.gz\n",
      "first_level_conditiononly_1022519/cp018/incongruent.nii.gz\n",
      "first_level_conditiononly_1022519/cp018/noprime.nii.gz\n",
      "first_level_conditiononly_1022519/cp019/congruent.nii.gz\n",
      "first_level_conditiononly_1022519/cp019/incongruent.nii.gz\n",
      "first_level_conditiononly_1022519/cp019/noprime.nii.gz\n",
      "first_level_conditiononly_1022519/cp020/congruent.nii.gz\n",
      "first_level_conditiononly_1022519/cp020/incongruent.nii.gz\n",
      "first_level_conditiononly_1022519/cp020/noprime.nii.gz\n",
      "first_level_conditiononly_1022519/cp021/congruent.nii.gz\n",
      "first_level_conditiononly_1022519/cp021/incongruent.nii.gz\n",
      "first_level_conditiononly_1022519/cp021/noprime.nii.gz\n",
      "first_level_conditiononly_1022519/cp022/congruent.nii.gz\n",
      "first_level_conditiononly_1022519/cp022/incongruent.nii.gz\n",
      "first_level_conditiononly_1022519/cp022/noprime.nii.gz\n",
      "first_level_conditiononly_1022519/cp023/congruent.nii.gz\n",
      "first_level_conditiononly_1022519/cp023/incongruent.nii.gz\n",
      "first_level_conditiononly_1022519/cp023/noprime.nii.gz\n",
      "first_level_conditiononly_1022519/cp024/congruent.nii.gz\n",
      "first_level_conditiononly_1022519/cp024/incongruent.nii.gz\n",
      "first_level_conditiononly_1022519/cp024/noprime.nii.gz\n",
      "first_level_conditiononly_1022519/cp025/congruent.nii.gz\n",
      "first_level_conditiononly_1022519/cp025/incongruent.nii.gz\n",
      "first_level_conditiononly_1022519/cp025/noprime.nii.gz\n",
      "first_level_conditiononly_1022519/cp026/congruent.nii.gz\n",
      "first_level_conditiononly_1022519/cp026/incongruent.nii.gz\n",
      "first_level_conditiononly_1022519/cp026/noprime.nii.gz\n",
      "first_level_conditiononly_1022519/cp027/congruent.nii.gz\n",
      "first_level_conditiononly_1022519/cp027/incongruent.nii.gz\n",
      "first_level_conditiononly_1022519/cp027/noprime.nii.gz\n",
      "first_level_conditiononly_1022519/cp028/congruent.nii.gz\n",
      "first_level_conditiononly_1022519/cp028/incongruent.nii.gz\n",
      "first_level_conditiononly_1022519/cp028/noprime.nii.gz\n",
      "first_level_conditiononly_1022519/cp029/congruent.nii.gz\n",
      "first_level_conditiononly_1022519/cp029/incongruent.nii.gz\n",
      "first_level_conditiononly_1022519/cp029/noprime.nii.gz\n",
      "first_level_conditiononly_1022519/cp030/congruent.nii.gz\n",
      "first_level_conditiononly_1022519/cp030/incongruent.nii.gz\n",
      "first_level_conditiononly_1022519/cp030/noprime.nii.gz\n"
     ]
    }
   ],
   "source": [
    "for subject_path in sub_list:\n",
    "    one_subject = Brain_Data(subject_path)\n",
    "    for regressor in columns_of_interest.keys():\n",
    "        subject_folder_path = subject_path[:40]\n",
    "        write_path = os.path.join(subject_folder_path,f'{regressor}.nii.gz')\n",
    "        print(write_path)\n",
    "        one_subject[columns_of_interest[regressor]].write(write_path)"
   ]
  },
  {
   "cell_type": "code",
   "execution_count": 23,
   "metadata": {},
   "outputs": [
    {
     "data": {
      "text/plain": [
       "'first_level_conditiononly_1022519/cp001/'"
      ]
     },
     "execution_count": 23,
     "metadata": {},
     "output_type": "execute_result"
    }
   ],
   "source": [
    "sub_list[0][:40]"
   ]
  },
  {
   "cell_type": "code",
   "execution_count": 26,
   "metadata": {},
   "outputs": [
    {
     "data": {
      "text/plain": [
       "'first_level_conditiononly_1022519/cp001/betas_denoised_smoothed_preprocessed_fMRI_bold.nii.gz'"
      ]
     },
     "execution_count": 26,
     "metadata": {},
     "output_type": "execute_result"
    }
   ],
   "source": [
    "sub_list[0]"
   ]
  },
  {
   "cell_type": "code",
   "execution_count": null,
   "metadata": {},
   "outputs": [],
   "source": []
  }
 ],
 "metadata": {
  "kernelspec": {
   "display_name": "Python 3",
   "language": "python",
   "name": "python3"
  },
  "language_info": {
   "codemirror_mode": {
    "name": "ipython",
    "version": 3
   },
   "file_extension": ".py",
   "mimetype": "text/x-python",
   "name": "python",
   "nbconvert_exporter": "python",
   "pygments_lexer": "ipython3",
   "version": "3.6.4"
  }
 },
 "nbformat": 4,
 "nbformat_minor": 2
}
